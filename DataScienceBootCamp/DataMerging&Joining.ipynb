{
 "cells": [
  {
   "cell_type": "markdown",
   "metadata": {},
   "source": [
    "# Data Merging And Joining\n",
    "\n",
    "### we can use merging and joining to combine data from different source into a single\n",
    "### DataFrame.\n",
    "\n",
    "## Types of joining\n",
    "\n",
    "* INNER JOIN\n",
    "* LEFTOUTER JOIN\n",
    "* RIGHT OUTER JOIN\n",
    "* FULL OUTER JOIN\n",
    "* CROSS JOIN\n",
    "### we will see an example for each of them in Pandas"
   ]
  },
  {
   "cell_type": "code",
   "execution_count": 30,
   "metadata": {},
   "outputs": [],
   "source": [
    "import pandas as pd\n",
    "# read the orders file and the users file\n",
    "orders_df = pd.read_csv('DataSets/orders.csv')\n",
    "users_df = pd.read_csv('DataSets/users.csv')"
   ]
  },
  {
   "cell_type": "code",
   "execution_count": 42,
   "metadata": {},
   "outputs": [
    {
     "name": "stdout",
     "output_type": "stream",
     "text": [
      "<class 'pandas.core.frame.DataFrame'>\n",
      "Index: 100 entries, 29 to 99\n",
      "Data columns (total 3 columns):\n",
      " #   Column       Non-Null Count  Dtype\n",
      "---  ------       --------------  -----\n",
      " 0   OrderID      100 non-null    int64\n",
      " 1   UserID       100 non-null    int64\n",
      " 2   OrderAmount  100 non-null    int64\n",
      "dtypes: int64(3)\n",
      "memory usage: 3.1 KB\n",
      "None\n",
      "    OrderID  UserID  OrderAmount\n",
      "29       30       1          719\n",
      "75       76       4          530\n",
      "53       54       4          955\n"
     ]
    }
   ],
   "source": [
    "# let's see the info and the head of the orders file\n",
    "# to have an idea about the data\n",
    "print(orders_df.info())\n",
    "print(orders_df.head(3))\n",
    "# let's sort the orders by the userID\n",
    "orders_df = orders_df.sort_values(by='UserID')"
   ]
  },
  {
   "cell_type": "code",
   "execution_count": 35,
   "metadata": {},
   "outputs": [
    {
     "name": "stdout",
     "output_type": "stream",
     "text": [
      "<class 'pandas.core.frame.DataFrame'>\n",
      "RangeIndex: 100 entries, 0 to 99\n",
      "Data columns (total 3 columns):\n",
      " #   Column     Non-Null Count  Dtype \n",
      "---  ------     --------------  ----- \n",
      " 0   UserID     100 non-null    int64 \n",
      " 1   UserName   100 non-null    object\n",
      " 2   UserEmail  100 non-null    object\n",
      "dtypes: int64(1), object(2)\n",
      "memory usage: 2.5+ KB\n",
      "None\n",
      "   UserID UserName          UserEmail\n",
      "0       1    User1  user1@example.com\n",
      "1       2    User2  user2@example.com\n",
      "2       3    User3  user3@example.com\n"
     ]
    }
   ],
   "source": [
    "# let's also see the info and the head of the users file\n",
    "# to have an idea about the data\n",
    "print(users_df.info())\n",
    "print(users_df.head(3))"
   ]
  },
  {
   "cell_type": "markdown",
   "metadata": {},
   "source": [
    "## we can see that ```UserID``` is the common column between the two dataframes\n",
    "## so use it to join the two dataframes"
   ]
  },
  {
   "cell_type": "code",
   "execution_count": 37,
   "metadata": {},
   "outputs": [
    {
     "name": "stdout",
     "output_type": "stream",
     "text": [
      "<class 'pandas.core.frame.DataFrame'>\n",
      "Index: 100 entries, 29 to 99\n",
      "Data columns (total 5 columns):\n",
      " #   Column       Non-Null Count  Dtype \n",
      "---  ------       --------------  ----- \n",
      " 0   OrderID      100 non-null    int64 \n",
      " 1   UserID       100 non-null    int64 \n",
      " 2   OrderAmount  100 non-null    int64 \n",
      " 3   UserName     100 non-null    object\n",
      " 4   UserEmail    100 non-null    object\n",
      "dtypes: int64(3), object(2)\n",
      "memory usage: 4.7+ KB\n",
      "None\n",
      "    OrderID  UserID  OrderAmount UserName          UserEmail\n",
      "29       30       1          719    User1  user1@example.com\n",
      "75       76       4          530    User4  user4@example.com\n",
      "53       54       4          955    User4  user4@example.com\n"
     ]
    }
   ],
   "source": [
    "# INNER JOIN\n",
    "# keep only mathcing rows\n",
    "inner_join_df = pd.merge(orders_df, users_df, on='UserID', how='inner')\n",
    "# we can see that the method takes two frames and the column to join on\n",
    "# let's order the data by the UserID\n",
    "inner_join_df = inner_join_df.sort_values(by='UserID')\n",
    "print(inner_join_df.info())\n",
    "print(inner_join_df.head(3))"
   ]
  },
  {
   "cell_type": "code",
   "execution_count": 43,
   "metadata": {},
   "outputs": [
    {
     "name": "stdout",
     "output_type": "stream",
     "text": [
      "<class 'pandas.core.frame.DataFrame'>\n",
      "RangeIndex: 100 entries, 0 to 99\n",
      "Data columns (total 5 columns):\n",
      " #   Column       Non-Null Count  Dtype \n",
      "---  ------       --------------  ----- \n",
      " 0   OrderID      100 non-null    int64 \n",
      " 1   UserID       100 non-null    int64 \n",
      " 2   OrderAmount  100 non-null    int64 \n",
      " 3   UserName     100 non-null    object\n",
      " 4   UserEmail    100 non-null    object\n",
      "dtypes: int64(3), object(2)\n",
      "memory usage: 4.0+ KB\n",
      "None\n"
     ]
    }
   ],
   "source": [
    "# LEFT OUTER JOIN\n",
    "# keep all rows from the left table and only matching rows from the right table\n",
    "left_outer_join_df = pd.merge(orders_df, users_df, on='UserID', how='left')\n",
    "print(left_outer_join_df.info())"
   ]
  },
  {
   "cell_type": "code",
   "execution_count": 44,
   "metadata": {},
   "outputs": [
    {
     "name": "stdout",
     "output_type": "stream",
     "text": [
      "<class 'pandas.core.frame.DataFrame'>\n",
      "RangeIndex: 139 entries, 0 to 138\n",
      "Data columns (total 5 columns):\n",
      " #   Column       Non-Null Count  Dtype  \n",
      "---  ------       --------------  -----  \n",
      " 0   OrderID      100 non-null    float64\n",
      " 1   UserID       139 non-null    int64  \n",
      " 2   OrderAmount  100 non-null    float64\n",
      " 3   UserName     139 non-null    object \n",
      " 4   UserEmail    139 non-null    object \n",
      "dtypes: float64(2), int64(1), object(2)\n",
      "memory usage: 5.6+ KB\n",
      "None\n"
     ]
    }
   ],
   "source": [
    "# RIGHT OUTER JOIN\n",
    "# keep all rows from the right table and only matching rows from the left table\n",
    "right_outer_join_df = pd.merge(orders_df, users_df, on='UserID', how='right')\n",
    "print(right_outer_join_df.info())"
   ]
  },
  {
   "cell_type": "code",
   "execution_count": 45,
   "metadata": {},
   "outputs": [
    {
     "name": "stdout",
     "output_type": "stream",
     "text": [
      "<class 'pandas.core.frame.DataFrame'>\n",
      "RangeIndex: 139 entries, 0 to 138\n",
      "Data columns (total 5 columns):\n",
      " #   Column       Non-Null Count  Dtype  \n",
      "---  ------       --------------  -----  \n",
      " 0   OrderID      100 non-null    float64\n",
      " 1   UserID       139 non-null    int64  \n",
      " 2   OrderAmount  100 non-null    float64\n",
      " 3   UserName     139 non-null    object \n",
      " 4   UserEmail    139 non-null    object \n",
      "dtypes: float64(2), int64(1), object(2)\n",
      "memory usage: 5.6+ KB\n",
      "None\n"
     ]
    }
   ],
   "source": [
    "# FULL OUTER JOIN\n",
    "# keep all rows from both tables\n",
    "full_outer_join_df = pd.merge(orders_df, users_df, on='UserID', how='outer')\n",
    "print(full_outer_join_df.info())"
   ]
  },
  {
   "cell_type": "markdown",
   "metadata": {},
   "source": [
    "## CROSS JOIN\n",
    "### create all possible combinations of rows between two tables\n",
    "### but it's not meaningful to do this in this case"
   ]
  }
 ],
 "metadata": {
  "kernelspec": {
   "display_name": "Python 3 (ipykernel)",
   "language": "python",
   "name": "python3"
  },
  "language_info": {
   "codemirror_mode": {
    "name": "ipython",
    "version": 3
   },
   "file_extension": ".py",
   "mimetype": "text/x-python",
   "name": "python",
   "nbconvert_exporter": "python",
   "pygments_lexer": "ipython3",
   "version": "3.12.2"
  }
 },
 "nbformat": 4,
 "nbformat_minor": 2
}
