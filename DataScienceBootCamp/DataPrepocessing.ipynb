{
 "cells": [
  {
   "cell_type": "code",
   "execution_count": 18,
   "metadata": {},
   "outputs": [
    {
     "name": "stdout",
     "output_type": "stream",
     "text": [
      "   Types  Types_Encoded\n",
      "0  type1              1\n",
      "1  type2              2\n",
      "2  type3              3\n",
      "3  type4              4\n",
      "4  type3              3\n"
     ]
    }
   ],
   "source": [
    "import pandas as pd\n",
    "\n",
    "data = {'Types': ['type1','type2','type3','type4', 'type3']}\n",
    "df = pd.DataFrame(data)\n",
    "\n",
    "data_maping = {'type1': 1,'type2': 2,'type3':3,'type4':4}\n",
    "df['Types_Encoded'] = df['Types'].map(data_maping)\n",
    "\n",
    "print(df)"
   ]
  }
 ],
 "metadata": {
  "kernelspec": {
   "display_name": "Python 3 (ipykernel)",
   "language": "python",
   "name": "python3"
  },
  "language_info": {
   "codemirror_mode": {
    "name": "ipython",
    "version": 3
   },
   "file_extension": ".py",
   "mimetype": "text/x-python",
   "name": "python",
   "nbconvert_exporter": "python",
   "pygments_lexer": "ipython3",
   "version": "3.12.2"
  }
 },
 "nbformat": 4,
 "nbformat_minor": 2
}
